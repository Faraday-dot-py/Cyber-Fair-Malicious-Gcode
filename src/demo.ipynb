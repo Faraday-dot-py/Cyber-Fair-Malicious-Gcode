{
 "cells": [
  {
   "cell_type": "code",
   "execution_count": 1,
   "metadata": {},
   "outputs": [],
   "source": [
    "# !pip install tensorflow pandas numpy matplotlib scikit-learn joblib pydot==2.0.0 setuptools"
   ]
  },
  {
   "cell_type": "code",
   "execution_count": 2,
   "metadata": {},
   "outputs": [],
   "source": [
    "import os\n",
    "import tensorflow as tf\n",
    "import pandas as pd\n",
    "import numpy as np\n",
    "from sklearn.preprocessing import StandardScaler\n",
    "import re\n",
    "import joblib"
   ]
  },
  {
   "cell_type": "code",
   "execution_count": 3,
   "metadata": {},
   "outputs": [],
   "source": [
    "# Define the maximum limits (same as used during training)\n",
    "MAX_X = 220  # Max X-axis limit\n",
    "MAX_Y = 220  # Max Y-axis limit\n",
    "MAX_Z = 250  # Max Z-axis limit\n",
    "MAX_TEMP = 260  # Safe extruder temp limit\n",
    "MAX_BED_TEMP = 120  # Safe bed temp limit\n",
    "MAX_SPEED = 5000  # Safe movement speed limit"
   ]
  },
  {
   "cell_type": "code",
   "execution_count": 4,
   "metadata": {},
   "outputs": [],
   "source": [
    "# Load the saved model (replace 'gcode_model.h5' with your model's filename)\n",
    "model = tf.keras.models.load_model(r'C:\\Users\\awebb\\Documents\\Programming\\Work\\SIIL\\Cyber Fair Malicious Gcode\\gcode_malicious_detection_model.keras')"
   ]
  },
  {
   "cell_type": "code",
   "execution_count": 5,
   "metadata": {},
   "outputs": [],
   "source": [
    "# Helper function to extract features from a single G-code file (same as used in training)\n",
    "def extract_gcode_features(file_path):\n",
    "    features = {\n",
    "        'temp_extruder': 0,\n",
    "        'temp_bed': 0,\n",
    "        'max_x': 0,\n",
    "        'max_y': 0,\n",
    "        'max_z': 0,\n",
    "        'max_speed': 0,\n",
    "        'max_extrusion': 0,\n",
    "        'fan_speed': 0,\n",
    "        'num_commands': 0,\n",
    "        'out_of_bounds_moves': 0\n",
    "    }\n",
    "\n",
    "    with open(file_path, 'r') as f:\n",
    "        for line in f:\n",
    "            features['num_commands'] += 1\n",
    "\n",
    "            # Extract temperature commands\n",
    "            if line.startswith('M104') or line.startswith('M109'):\n",
    "                temp = extract_value_from_line(line, 'S')\n",
    "                if temp:\n",
    "                    features['temp_extruder'] = max(features['temp_extruder'], float(temp))\n",
    "            \n",
    "            if line.startswith('M140') or line.startswith('M190'):\n",
    "                temp = extract_value_from_line(line, 'S')\n",
    "                if temp:\n",
    "                    features['temp_bed'] = max(features['temp_bed'], float(temp))\n",
    "            \n",
    "            # Extract movement commands\n",
    "            if line.startswith('G0') or line.startswith('G1'):\n",
    "                x = extract_value_from_line(line, 'X')\n",
    "                y = extract_value_from_line(line, 'Y')\n",
    "                z = extract_value_from_line(line, 'Z')\n",
    "                f = extract_value_from_line(line, 'F')\n",
    "                e = extract_value_from_line(line, 'E')\n",
    "\n",
    "                if x: features['max_x'] = max(features['max_x'], float(x))\n",
    "                if y: features['max_y'] = max(features['max_y'], float(y))\n",
    "                if z: features['max_z'] = max(features['max_z'], float(z))\n",
    "                if f: features['max_speed'] = max(features['max_speed'], float(f))\n",
    "                if e: features['max_extrusion'] = max(features['max_extrusion'], float(e))\n",
    "\n",
    "                # Check for out-of-bounds movements\n",
    "                if (x and float(x) > MAX_X) or (y and float(y) > MAX_Y) or (z and float(z) > MAX_Z):\n",
    "                    features['out_of_bounds_moves'] += 1\n",
    "            \n",
    "            # Extract fan speed\n",
    "            if line.startswith('M106'):\n",
    "                fan_speed = extract_value_from_line(line, 'S')\n",
    "                if fan_speed:\n",
    "                    features['fan_speed'] = max(features['fan_speed'], float(fan_speed))\n",
    "\n",
    "    return features"
   ]
  },
  {
   "cell_type": "code",
   "execution_count": 6,
   "metadata": {},
   "outputs": [],
   "source": [
    "# Helper function to extract a parameter value (e.g., X, Y, Z, S) from a G-code line\n",
    "def extract_value_from_line(line, param):\n",
    "    match = re.search(rf\"{param}([-\\d.]+)\", line)\n",
    "    if match:\n",
    "        return match.group(1)\n",
    "    return None"
   ]
  },
  {
   "cell_type": "code",
   "execution_count": 7,
   "metadata": {},
   "outputs": [],
   "source": [
    "# Normalize features based on the scaler used during training\n",
    "def normalize_features(features, scaler):\n",
    "    feature_values = np.array(list(features.values())).reshape(1, -1)  # Convert dict to 2D array\n",
    "    return scaler.transform(feature_values)"
   ]
  },
  {
   "cell_type": "code",
   "execution_count": null,
   "metadata": {},
   "outputs": [],
   "source": [
    "# Load the pre-trained scaler (assumes scaler was saved during training as 'scaler.pkl')\n",
    "scaler = joblib.load(r'C:\\Users\\awebb\\Documents\\Programming\\Work\\SIIL\\Cyber Fair Malicious Gcode\\scaler.pkl')"
   ]
  },
  {
   "cell_type": "code",
   "execution_count": 9,
   "metadata": {},
   "outputs": [],
   "source": [
    "# Test the model on one good G-code file and one bad G-code file\n",
    "good_gcode_file = r'C:\\Users\\awebb\\Documents\\Programming\\Work\\SIIL\\Cyber Fair Malicious Gcode\\demo\\cube.gcode'  # Path to your good G-code file\n",
    "bad_gcode_file = r'C:\\Users\\awebb\\Documents\\Programming\\Work\\SIIL\\Cyber Fair Malicious Gcode\\demo\\malicious_cube.gcode'    # Path to your bad G-code file"
   ]
  },
  {
   "cell_type": "code",
   "execution_count": 10,
   "metadata": {},
   "outputs": [],
   "source": [
    "# Extract features from the good and bad G-code files\n",
    "good_features = extract_gcode_features(good_gcode_file)\n",
    "bad_features = extract_gcode_features(bad_gcode_file)"
   ]
  },
  {
   "cell_type": "code",
   "execution_count": null,
   "metadata": {},
   "outputs": [],
   "source": [
    "# Normalize the features\n",
    "good_features_normalized = normalize_features(good_features, scaler)\n",
    "bad_features_normalized = normalize_features(bad_features, scaler)"
   ]
  },
  {
   "cell_type": "code",
   "execution_count": 12,
   "metadata": {},
   "outputs": [
    {
     "name": "stdout",
     "output_type": "stream",
     "text": [
      "\u001b[1m1/1\u001b[0m \u001b[32m━━━━━━━━━━━━━━━━━━━━\u001b[0m\u001b[37m\u001b[0m \u001b[1m0s\u001b[0m 425ms/step\n",
      "\u001b[1m1/1\u001b[0m \u001b[32m━━━━━━━━━━━━━━━━━━━━\u001b[0m\u001b[37m\u001b[0m \u001b[1m0s\u001b[0m 56ms/step\n"
     ]
    }
   ],
   "source": [
    "# Make predictions\n",
    "good_prediction = model.predict(good_features_normalized)\n",
    "bad_prediction = model.predict(bad_features_normalized)"
   ]
  },
  {
   "cell_type": "code",
   "execution_count": 13,
   "metadata": {},
   "outputs": [],
   "source": [
    "# Convert predictions to binary labels (0 for good, 1 for malicious)\n",
    "good_label = (good_prediction > 0.5).astype(\"int32\")\n",
    "bad_label = (bad_prediction > 0.5).astype(\"int32\")"
   ]
  },
  {
   "cell_type": "code",
   "execution_count": 14,
   "metadata": {},
   "outputs": [
    {
     "name": "stdout",
     "output_type": "stream",
     "text": [
      "Good G-code prediction: 0.0001 (label: 0)\n",
      "Bad G-code prediction: 1.0000 (label: 1)\n"
     ]
    }
   ],
   "source": [
    "# Output the predictions\n",
    "print(f\"Good G-code prediction: {good_prediction[0][0]:.4f} (label: {good_label[0][0]})\")\n",
    "print(f\"Bad G-code prediction: {bad_prediction[0][0]:.4f} (label: {bad_label[0][0]})\")"
   ]
  },
  {
   "cell_type": "code",
   "execution_count": 24,
   "metadata": {},
   "outputs": [
    {
     "data": {
      "text/html": [
       "<pre style=\"white-space:pre;overflow-x:auto;line-height:normal;font-family:Menlo,'DejaVu Sans Mono',consolas,'Courier New',monospace\"><span style=\"font-weight: bold\">Model: \"sequential\"</span>\n",
       "</pre>\n"
      ],
      "text/plain": [
       "\u001b[1mModel: \"sequential\"\u001b[0m\n"
      ]
     },
     "metadata": {},
     "output_type": "display_data"
    },
    {
     "data": {
      "text/html": [
       "<pre style=\"white-space:pre;overflow-x:auto;line-height:normal;font-family:Menlo,'DejaVu Sans Mono',consolas,'Courier New',monospace\">┏━━━━━━━━━━━━━━━━━━━━━━━━━━━━━━━━━┳━━━━━━━━━━━━━━━━━━━━━━━━┳━━━━━━━━━━━━━━━┓\n",
       "┃<span style=\"font-weight: bold\"> Layer (type)                    </span>┃<span style=\"font-weight: bold\"> Output Shape           </span>┃<span style=\"font-weight: bold\">       Param # </span>┃\n",
       "┡━━━━━━━━━━━━━━━━━━━━━━━━━━━━━━━━━╇━━━━━━━━━━━━━━━━━━━━━━━━╇━━━━━━━━━━━━━━━┩\n",
       "│ dense (<span style=\"color: #0087ff; text-decoration-color: #0087ff\">Dense</span>)                   │ (<span style=\"color: #00d7ff; text-decoration-color: #00d7ff\">None</span>, <span style=\"color: #00af00; text-decoration-color: #00af00\">128</span>)            │         <span style=\"color: #00af00; text-decoration-color: #00af00\">1,408</span> │\n",
       "├─────────────────────────────────┼────────────────────────┼───────────────┤\n",
       "│ dense_1 (<span style=\"color: #0087ff; text-decoration-color: #0087ff\">Dense</span>)                 │ (<span style=\"color: #00d7ff; text-decoration-color: #00d7ff\">None</span>, <span style=\"color: #00af00; text-decoration-color: #00af00\">64</span>)             │         <span style=\"color: #00af00; text-decoration-color: #00af00\">8,256</span> │\n",
       "├─────────────────────────────────┼────────────────────────┼───────────────┤\n",
       "│ dense_2 (<span style=\"color: #0087ff; text-decoration-color: #0087ff\">Dense</span>)                 │ (<span style=\"color: #00d7ff; text-decoration-color: #00d7ff\">None</span>, <span style=\"color: #00af00; text-decoration-color: #00af00\">32</span>)             │         <span style=\"color: #00af00; text-decoration-color: #00af00\">2,080</span> │\n",
       "├─────────────────────────────────┼────────────────────────┼───────────────┤\n",
       "│ dense_3 (<span style=\"color: #0087ff; text-decoration-color: #0087ff\">Dense</span>)                 │ (<span style=\"color: #00d7ff; text-decoration-color: #00d7ff\">None</span>, <span style=\"color: #00af00; text-decoration-color: #00af00\">1</span>)              │            <span style=\"color: #00af00; text-decoration-color: #00af00\">33</span> │\n",
       "└─────────────────────────────────┴────────────────────────┴───────────────┘\n",
       "</pre>\n"
      ],
      "text/plain": [
       "┏━━━━━━━━━━━━━━━━━━━━━━━━━━━━━━━━━┳━━━━━━━━━━━━━━━━━━━━━━━━┳━━━━━━━━━━━━━━━┓\n",
       "┃\u001b[1m \u001b[0m\u001b[1mLayer (type)                   \u001b[0m\u001b[1m \u001b[0m┃\u001b[1m \u001b[0m\u001b[1mOutput Shape          \u001b[0m\u001b[1m \u001b[0m┃\u001b[1m \u001b[0m\u001b[1m      Param #\u001b[0m\u001b[1m \u001b[0m┃\n",
       "┡━━━━━━━━━━━━━━━━━━━━━━━━━━━━━━━━━╇━━━━━━━━━━━━━━━━━━━━━━━━╇━━━━━━━━━━━━━━━┩\n",
       "│ dense (\u001b[38;5;33mDense\u001b[0m)                   │ (\u001b[38;5;45mNone\u001b[0m, \u001b[38;5;34m128\u001b[0m)            │         \u001b[38;5;34m1,408\u001b[0m │\n",
       "├─────────────────────────────────┼────────────────────────┼───────────────┤\n",
       "│ dense_1 (\u001b[38;5;33mDense\u001b[0m)                 │ (\u001b[38;5;45mNone\u001b[0m, \u001b[38;5;34m64\u001b[0m)             │         \u001b[38;5;34m8,256\u001b[0m │\n",
       "├─────────────────────────────────┼────────────────────────┼───────────────┤\n",
       "│ dense_2 (\u001b[38;5;33mDense\u001b[0m)                 │ (\u001b[38;5;45mNone\u001b[0m, \u001b[38;5;34m32\u001b[0m)             │         \u001b[38;5;34m2,080\u001b[0m │\n",
       "├─────────────────────────────────┼────────────────────────┼───────────────┤\n",
       "│ dense_3 (\u001b[38;5;33mDense\u001b[0m)                 │ (\u001b[38;5;45mNone\u001b[0m, \u001b[38;5;34m1\u001b[0m)              │            \u001b[38;5;34m33\u001b[0m │\n",
       "└─────────────────────────────────┴────────────────────────┴───────────────┘\n"
      ]
     },
     "metadata": {},
     "output_type": "display_data"
    },
    {
     "data": {
      "text/html": [
       "<pre style=\"white-space:pre;overflow-x:auto;line-height:normal;font-family:Menlo,'DejaVu Sans Mono',consolas,'Courier New',monospace\"><span style=\"font-weight: bold\"> Total params: </span><span style=\"color: #00af00; text-decoration-color: #00af00\">35,333</span> (138.02 KB)\n",
       "</pre>\n"
      ],
      "text/plain": [
       "\u001b[1m Total params: \u001b[0m\u001b[38;5;34m35,333\u001b[0m (138.02 KB)\n"
      ]
     },
     "metadata": {},
     "output_type": "display_data"
    },
    {
     "data": {
      "text/html": [
       "<pre style=\"white-space:pre;overflow-x:auto;line-height:normal;font-family:Menlo,'DejaVu Sans Mono',consolas,'Courier New',monospace\"><span style=\"font-weight: bold\"> Trainable params: </span><span style=\"color: #00af00; text-decoration-color: #00af00\">11,777</span> (46.00 KB)\n",
       "</pre>\n"
      ],
      "text/plain": [
       "\u001b[1m Trainable params: \u001b[0m\u001b[38;5;34m11,777\u001b[0m (46.00 KB)\n"
      ]
     },
     "metadata": {},
     "output_type": "display_data"
    },
    {
     "data": {
      "text/html": [
       "<pre style=\"white-space:pre;overflow-x:auto;line-height:normal;font-family:Menlo,'DejaVu Sans Mono',consolas,'Courier New',monospace\"><span style=\"font-weight: bold\"> Non-trainable params: </span><span style=\"color: #00af00; text-decoration-color: #00af00\">0</span> (0.00 B)\n",
       "</pre>\n"
      ],
      "text/plain": [
       "\u001b[1m Non-trainable params: \u001b[0m\u001b[38;5;34m0\u001b[0m (0.00 B)\n"
      ]
     },
     "metadata": {},
     "output_type": "display_data"
    },
    {
     "data": {
      "text/html": [
       "<pre style=\"white-space:pre;overflow-x:auto;line-height:normal;font-family:Menlo,'DejaVu Sans Mono',consolas,'Courier New',monospace\"><span style=\"font-weight: bold\"> Optimizer params: </span><span style=\"color: #00af00; text-decoration-color: #00af00\">23,556</span> (92.02 KB)\n",
       "</pre>\n"
      ],
      "text/plain": [
       "\u001b[1m Optimizer params: \u001b[0m\u001b[38;5;34m23,556\u001b[0m (92.02 KB)\n"
      ]
     },
     "metadata": {},
     "output_type": "display_data"
    }
   ],
   "source": [
    "model.summary()"
   ]
  }
 ],
 "metadata": {
  "kernelspec": {
   "display_name": "Cyber Fair Malicious Gcode",
   "language": "python",
   "name": "python3"
  },
  "language_info": {
   "codemirror_mode": {
    "name": "ipython",
    "version": 3
   },
   "file_extension": ".py",
   "mimetype": "text/x-python",
   "name": "python",
   "nbconvert_exporter": "python",
   "pygments_lexer": "ipython3",
   "version": "3.12.4"
  }
 },
 "nbformat": 4,
 "nbformat_minor": 2
}
